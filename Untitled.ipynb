{
 "cells": [
  {
   "cell_type": "code",
   "execution_count": 3,
   "id": "e833da98",
   "metadata": {},
   "outputs": [
    {
     "name": "stdout",
     "output_type": "stream",
     "text": [
      "Enter a wordmmmmooooommmppp\n",
      "momp\n"
     ]
    }
   ],
   "source": [
    "#delete repeated letters using recrsion function\n",
    "def clean(word):\n",
    "    if len(word)==1:\n",
    "        return word \n",
    "    if word[0]==word[1]:\n",
    "        return clean(word[1:])\n",
    "    return word[0] + clean(word[1:])\n",
    "x= input(\"Enter a word\")   \n",
    "print(clean(x))"
   ]
  },
  {
   "cell_type": "code",
   "execution_count": 10,
   "id": "e50cca3b",
   "metadata": {},
   "outputs": [
    {
     "name": "stdout",
     "output_type": "stream",
     "text": [
      "Element is in index:  1\n"
     ]
    }
   ],
   "source": [
    "def binsearch(arr,x):\n",
    "    low = 0\n",
    "    high = len(arr)-1\n",
    "    mid =0\n",
    "    while low <= high:\n",
    "        mid = (low+high) // 2\n",
    "        if x < arr[mid]:\n",
    "            high = mid - 1\n",
    "        elif x > arr[mid] :\n",
    "            low = mid +1\n",
    "        else :\n",
    "            return mid\n",
    "    return -1\n",
    "ar = [11,33,66,10,44,6,90,0,14]\n",
    "x = 33\n",
    "result = binsearch(ar,x)\n",
    "if result !=-1:\n",
    "    print(\"Element is in index: \",str(result))\n",
    "else:\n",
    "    print(\"Element is not found at ar\")\n",
    "            "
   ]
  },
  {
   "cell_type": "code",
   "execution_count": 8,
   "id": "070cb301",
   "metadata": {},
   "outputs": [
    {
     "name": "stdout",
     "output_type": "stream",
     "text": [
      "Element is present at index 3\n"
     ]
    }
   ],
   "source": []
  },
  {
   "cell_type": "code",
   "execution_count": null,
   "id": "3d804b00",
   "metadata": {},
   "outputs": [],
   "source": []
  },
  {
   "cell_type": "code",
   "execution_count": null,
   "id": "452baa3a",
   "metadata": {},
   "outputs": [],
   "source": []
  }
 ],
 "metadata": {
  "kernelspec": {
   "display_name": "Python 3 (ipykernel)",
   "language": "python",
   "name": "python3"
  },
  "language_info": {
   "codemirror_mode": {
    "name": "ipython",
    "version": 3
   },
   "file_extension": ".py",
   "mimetype": "text/x-python",
   "name": "python",
   "nbconvert_exporter": "python",
   "pygments_lexer": "ipython3",
   "version": "3.9.12"
  }
 },
 "nbformat": 4,
 "nbformat_minor": 5
}
